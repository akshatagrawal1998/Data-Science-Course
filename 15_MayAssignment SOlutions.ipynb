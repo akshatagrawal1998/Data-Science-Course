{
 "cells": [
  {
   "attachments": {},
   "cell_type": "markdown",
   "id": "d254d69e",
   "metadata": {},
   "source": [
    "# Assignment 2"
   ]
  },
  {
   "cell_type": "code",
   "execution_count": null,
   "id": "1b5fa680",
   "metadata": {},
   "outputs": [
    {
     "data": {
      "text/plain": [
       "'There are 2 types of comments used in python\\n1). Single Line Comment - which is represented by \"#\" sign\\n\\n2). Multi line comment - which is represented by \\n'"
      ]
     },
     "execution_count": 20,
     "metadata": {},
     "output_type": "execute_result"
    }
   ],
   "source": [
    "# Q1. How do you comment code in Python? What are the different types of comments?\n",
    "\n",
    "# Comments in python are used for writing description about the code so that anyone can understand the complex code.\n",
    "\n",
    "'''There are 2 types of comments used in python\n",
    "1). Single Line Comment - which is represented by \"#\" sign\n",
    "\n",
    "2). Multi line comment - which is represented by '''  '''\n",
    "'''"
   ]
  },
  {
   "cell_type": "code",
   "execution_count": null,
   "id": "25bd55e8",
   "metadata": {},
   "outputs": [],
   "source": [
    "''' Q2. What are variables in Python? How do you declare and assign values to variables?\n",
    "\n",
    "Variables in Python are basically name f=given to store a value in the memory.\n",
    "Variables are declared as :\n",
    "'''\n",
    "a=5 \n",
    "b=5.4\n",
    "x = 'Akshat'\n",
    "y = \"Akshat's frient is Himanshu\"\n",
    "bool_ = True\n"
   ]
  },
  {
   "cell_type": "code",
   "execution_count": null,
   "id": "b263511a",
   "metadata": {},
   "outputs": [
    {
     "name": "stdout",
     "output_type": "stream",
     "text": [
      "42 is integer and  42  is string\n",
      "42 is integer and  42  is string\n",
      "3.14 is float and  3.14  is string\n",
      "0 is integer and  False  is boolean\n",
      "Hello is string and  ['H', 'e', 'l', 'l', 'o']  is list\n",
      "[1, 2, 3] is list and  (1, 2, 3)  is tuple\n",
      "[('apple', 1), ('banana', 2), ('orange', 3)] is <class 'list'> and {'apple': 1, 'banana': 2, 'orange': 3} is <class 'dict'>\n",
      "[('apple', 1), ('banana', 2), ('orange', 3)] is  <class 'list'> and  {'apple': 1, 'banana': 2, 'orange': 3} is  <class 'dict'>\n",
      "[1, 2, 2, 3, 3, 3] is <class 'list'> and {1, 2, 3} is <class 'set'>\n"
     ]
    }
   ],
   "source": [
    "''' Q3. How do you convert one data type to another in Python?\n",
    "Ans 3\n",
    "In Python, we can convert one data type to another using type conversion functions. Examples:\n",
    "'''\n",
    "\n",
    "#str(): This function converts a value to a string data type.\n",
    "number = 42\n",
    "text = str(number)\n",
    "print(number, \"is integer and \", text, \" is string\")\n",
    "\n",
    "#int(): This function converts a value to an integer data type.\n",
    "text = \"42\"\n",
    "number = int(text)\n",
    "print(number, \"is integer and \", text, \" is string\")\n",
    "\n",
    "#float(): This function converts a value to a floating-point data type.\n",
    "text = \"3.14\"\n",
    "number = float(text)\n",
    "print(number, \"is float and \", text, \" is string\")\n",
    "\n",
    "#bool(): This function converts a value to a boolean data type.\n",
    "number = 0\n",
    "boolean_value = bool(number)\n",
    "print(number, \"is integer and \", boolean_value, \" is boolean\")\n",
    "\n",
    "#list(): This function converts an iterable (e.g., string, tuple) to a list data type.\n",
    "text = \"Hello\"\n",
    "char_list = list(text)\n",
    "print(text, \"is string and \", char_list, \" is list\")\n",
    "\n",
    "#tuple(): This function converts an iterable to a tuple data type.\n",
    "numbers = [1, 2, 3]\n",
    "number_tuple = tuple(numbers)\n",
    "print(numbers, \"is list and \", number_tuple, \" is tuple\")\n",
    "\n",
    "#dict(): This function converts a sequence of key-value pairs into a dictionary data type.\n",
    "items = [(\"apple\", 1), (\"banana\", 2), (\"orange\", 3)]\n",
    "item_dict = dict(items)\n",
    "print(f\"{items} is {type(items)} and {item_dict} is {type(item_dict)}\")\n",
    "\n",
    "#set(): This function converts an iterable to a set data type, removing duplicate elements.\n",
    "numbers = [1, 2, 2, 3, 3, 3]\n",
    "unique_numbers = set(numbers)\n",
    "print(f\"{numbers} is {type(numbers)} and {unique_numbers} is {type(unique_numbers)}\")"
   ]
  },
  {
   "cell_type": "code",
   "execution_count": null,
   "id": "3b932892",
   "metadata": {},
   "outputs": [
    {
     "data": {
      "text/plain": [
       "'We can simply go to the directory where we want to run Python script from command line:\\n    \\n    In that directory open command line. Write Python in the cmd once you enter the respective folder. Write a python script there \\n    which you want to run from cmd. Press Enter and your Python Script will be run.\\n'"
      ]
     },
     "execution_count": 7,
     "metadata": {},
     "output_type": "execute_result"
    }
   ],
   "source": [
    "# Q4. How do you write and execute a Python script from the command line?\n",
    "\n",
    "'''We can simply go to the directory where we want to run Python script from command line:\n",
    "    \n",
    "    In that directory open command line. Write Python in the cmd once you enter the respective folder. Write a python script there \n",
    "    which you want to run from cmd. Press Enter and your Python Script will be run.\n",
    "'''    "
   ]
  },
  {
   "cell_type": "code",
   "execution_count": null,
   "id": "f0755eb1",
   "metadata": {},
   "outputs": [
    {
     "name": "stdout",
     "output_type": "stream",
     "text": [
      "[2, 3]\n"
     ]
    }
   ],
   "source": [
    "# Q5. Given a list my_list = [1, 2, 3, 4, 5], write the code to slice the list and obtain the sub-list [2, 3].\n",
    "# Ans 5.\n",
    "\n",
    "my_list = [1,2,3,4,5]\n",
    "print(my_list[1:3])"
   ]
  },
  {
   "cell_type": "code",
   "execution_count": null,
   "id": "7012b1dd",
   "metadata": {},
   "outputs": [
    {
     "name": "stdout",
     "output_type": "stream",
     "text": [
      "(3+2j)\n",
      "(4+0j)\n",
      "5j\n",
      "(-2-3j)\n"
     ]
    }
   ],
   "source": [
    "# Q6. What is a complex number in mathematics, and how is it represented in Python?\n",
    "# Ans 6. \n",
    "'''\n",
    "In mathematics, a complex number is a number that comprises both a real part and an imaginary part. It is expressed in the form a + bi, where a represents the real part, b represents the imaginary part, and i represents the imaginary unit (√-1).\n",
    "\n",
    "In Python, complex numbers are represented using the complex data type. The imaginary part is denoted by the suffix j instead of i. The syntax to define a complex number in Python is as follows:\n",
    "\n",
    "z = a + bj\n",
    "\n",
    "Here, a represents the real part, and b represents the imaginary part. Both a and b can be integer, float, or any valid numeric expression in Python.\n",
    "\n",
    "Here are a few examples of complex number representation in Python:\n",
    "'''\n",
    "\n",
    "# Complex number with real and imaginary parts\n",
    "z1 = 3 + 2j\n",
    "print(z1)\n",
    "\n",
    "# Complex number with only real part\n",
    "z2 = 4 + 0j\n",
    "print(z2) \n",
    "\n",
    "# Complex number with only imaginary part\n",
    "z3 = 0 + 5j\n",
    "print(z3)\n",
    "\n",
    "# Complex number with negative real and imaginary parts\n",
    "z4 = -2 - 3j\n",
    "print(z4)"
   ]
  },
  {
   "cell_type": "code",
   "execution_count": null,
   "id": "fb4853e1",
   "metadata": {},
   "outputs": [
    {
     "name": "stdout",
     "output_type": "stream",
     "text": [
      "25\n"
     ]
    }
   ],
   "source": [
    "# Q7. What is the correct way to declare a variable named age and assign the value 25 to it?\n",
    "age = 25\n",
    "print(age)"
   ]
  },
  {
   "cell_type": "code",
   "execution_count": null,
   "id": "099e4c8c",
   "metadata": {},
   "outputs": [
    {
     "name": "stdout",
     "output_type": "stream",
     "text": [
      "9.99 belongs to type <class 'float'>\n"
     ]
    }
   ],
   "source": [
    "# Q8. Declare a variable named price and assign the value 9.99 to it. What data type does this variable belong to?\n",
    "\n",
    "price = 9.99\n",
    "print(f\"{price} belongs to type {type(price)}\")"
   ]
  },
  {
   "cell_type": "code",
   "execution_count": null,
   "id": "6218bb6a",
   "metadata": {},
   "outputs": [
    {
     "name": "stdout",
     "output_type": "stream",
     "text": [
      "Akshat Agrawal\n"
     ]
    }
   ],
   "source": [
    "# Q9. Create a variable named name and assign your full name to it as a string. How would you print the value of this variable?\n",
    "\n",
    "name = \"Akshat Agrawal\"\n",
    "print(name)"
   ]
  },
  {
   "cell_type": "code",
   "execution_count": null,
   "id": "69c5749f",
   "metadata": {},
   "outputs": [
    {
     "name": "stdout",
     "output_type": "stream",
     "text": [
      "World\n"
     ]
    }
   ],
   "source": [
    "# Q10. Given the string \"Hello, World!\", extract the substring \"World\".\n",
    "\n",
    "str1 = \"Hello World\"\n",
    "print(str1[6:])"
   ]
  },
  {
   "cell_type": "code",
   "execution_count": null,
   "id": "ba01eaee",
   "metadata": {},
   "outputs": [
    {
     "name": "stdout",
     "output_type": "stream",
     "text": [
      "is_student\n",
      "True\n"
     ]
    }
   ],
   "source": [
    "# Q11. Create a variable named \"is_student\" and assign it a boolean value indicating whether you are currently a student or not.\n",
    "\n",
    "var = \"is_student\"\n",
    "bool_var = bool(var)\n",
    "print(var)\n",
    "print(bool_var)"
   ]
  },
  {
   "cell_type": "code",
   "execution_count": null,
   "id": "2b6d00ce",
   "metadata": {},
   "outputs": [],
   "source": []
  }
 ],
 "metadata": {
  "kernelspec": {
   "display_name": "Python 3 (ipykernel)",
   "language": "python",
   "name": "python3"
  },
  "language_info": {
   "codemirror_mode": {
    "name": "ipython",
    "version": 3
   },
   "file_extension": ".py",
   "mimetype": "text/x-python",
   "name": "python",
   "nbconvert_exporter": "python",
   "pygments_lexer": "ipython3",
   "version": "3.9.7"
  }
 },
 "nbformat": 4,
 "nbformat_minor": 5
}
