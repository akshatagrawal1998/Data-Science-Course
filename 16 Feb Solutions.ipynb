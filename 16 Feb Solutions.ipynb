{
 "cells": [
  {
   "cell_type": "markdown",
   "id": "16a4aeb5",
   "metadata": {},
   "source": [
    "# Database Assignments"
   ]
  },
  {
   "cell_type": "markdown",
   "id": "1512e329",
   "metadata": {},
   "source": [
    "# 16 Feb_AssQ solutions"
   ]
  },
  {
   "cell_type": "code",
   "execution_count": 1,
   "id": "2acbc4eb",
   "metadata": {},
   "outputs": [],
   "source": [
    "# Q1. What is a database? Differentiate between SQL and NoSQL databases."
   ]
  },
  {
   "cell_type": "markdown",
   "id": "ea56131a",
   "metadata": {},
   "source": [
    "A database is a system that stores and manages data in an organized manner. It acts as a digital warehouse where data is stored, structured, and accessed. It provides a way to store and retrieve data efficiently, enabling easy searching, sorting, and manipulation of information for various purposes."
   ]
  },
  {
   "cell_type": "code",
   "execution_count": 2,
   "id": "a8ad33d4",
   "metadata": {},
   "outputs": [],
   "source": [
    "# Q2. What is DDL? Explain why CREATE, DROP, ALTER, and TRUNCATE are used with an example."
   ]
  },
  {
   "cell_type": "markdown",
   "id": "0a087b47",
   "metadata": {},
   "source": [
    "DDL stands for Data definition language. It basically means defining the database as to create, alter, drop the database.\n",
    "\n",
    "# CREATE:\n",
    "- It helps to create the database or a table in existing database \n",
    "- Syntax - create database database_name\n",
    "\n",
    "- to create a table\n",
    "\n",
    "CREATE TABLE Employees (\n",
    "    ID INT PRIMARY KEY,\n",
    "    Name VARCHAR(50),\n",
    "    Age INT,\n",
    "    Salary DECIMAL(10, 2)\n",
    ");\n",
    "\n",
    "\n",
    "# Alter:\n",
    "- The ALTER command is used to modify the structure of an existing table.\n",
    "ALTER TABLE Employees\n",
    "ADD COLUMN Address VARCHAR(100);\n",
    "\n",
    "\n",
    "# DROP:\n",
    "- It helps to DELETE the entire table from a database.\n",
    "Syntax - drop table table_name;\n",
    "\n",
    "\n",
    "# Truncate:\n",
    "The TRUNCATE command is used to delete all the data from a table, while keeping the table structure intact.\n",
    "\n",
    "- Syntax - \n",
    "TRUNCATE TABLE Employees;"
   ]
  },
  {
   "cell_type": "markdown",
   "id": "9c56f54c",
   "metadata": {},
   "source": [
    "# What is DML? Explain INSERT, UPDATE, and DELETE with an example.\n",
    "\n",
    "DML stands for Data Manipulation language.\n",
    "It basically helps in managing the database i.e insert, update or delete data from a database.\n",
    "\n",
    "- Insert command - to add new records into a table.\n",
    "INSERT INTO Employees (ID, Name, Age, Salary)\n",
    "VALUES (1, 'John Doe', 30, 50000);\n",
    "\n",
    "\n",
    "- Update command - to update an existing record in a table\n",
    "\n",
    "UPDATE Employees\n",
    "SET Salary = 55000\n",
    "WHERE ID = 1; \n",
    "\n",
    "\n",
    "- Delete command - to remove specific records from a table.\n",
    "\n",
    "DELETE FROM Employees\n",
    "WHERE ID = 1;\n"
   ]
  },
  {
   "cell_type": "markdown",
   "id": "f593053b",
   "metadata": {},
   "source": [
    "# What is DQL? Explain SELECT with an example.\n",
    "\n",
    "DQL stands for Data Query Language. It is a subset of SQL (Structured Query Language) that is used to retrieve data from a database.\n",
    "\n",
    "example:\n",
    "select * from employee;  # to select all records from employee table\n",
    "\n",
    "select name, age from employee where salary > 90000 order by name desc;  # to get name and age of employee whose salary is greater than 90000."
   ]
  },
  {
   "cell_type": "markdown",
   "id": "6802a033",
   "metadata": {},
   "source": [
    "# Explain Primary Key and Foreign Key.\n",
    "\n",
    "A primary key is a column or a combination of columns that uniquely identifies each record in a table. It ensures the uniqueness and integrity of data within the table. Every table should have a primary key.\n",
    "e.g.\n",
    "CREATE TABLE Students (studentID INT PRIMARY KEY, Name VARCHAR(50), Age INT);\n",
    "\n",
    "Here, \"StudentID is the primary key. It guarantees that each student in the \"Students\" table will have a unique identifier.\n",
    "\n",
    "\n",
    "A foreign key is a column or a combination of columns that establishes a link or relationship between two tables. It refers to the primary key of another table, creating a parent-child relationship between the tables.\n",
    "e.g.\n",
    "CREATE TABLE Courses (CourseID INT PRIMARY KEY, CourseName VARCHAR(50), StudentID INT, \n",
    "                        FOREIGN KEY (StudentID) REFERENCES Students(studentID)\n",
    ");\n",
    "Here, the \"StudentID\" column in the \"Courses\" table is defined as a foreign key that references the primary key \"studentID\" in the \"Students\" table. This establishes a relationship between the \"Courses\" and \"Students\" tables, where each course is associated with a specific student."
   ]
  },
  {
   "cell_type": "markdown",
   "id": "fdc693eb",
   "metadata": {},
   "source": [
    "# Write a python code to connect MySQL to python. Explain the cursor() and execute() method."
   ]
  },
  {
   "cell_type": "markdown",
   "id": "7c67638d",
   "metadata": {},
   "source": [
    "- To connect MySQL to Python, we can use the mysql-connector-python library.\n",
    "\n",
    "import mysql.connector\n",
    "\n",
    "- Establishing the connection\n",
    "connection = mysql.connector.connect(\n",
    "    host=\"localhost\",\n",
    "    user=\"your_username\",\n",
    "    password=\"your_password\",\n",
    "    database=\"your_database\"\n",
    ")\n",
    "\n",
    "- Creating a cursor object\n",
    "cursor = connection.cursor()\n",
    "- creates a cursor object that allows us to execute SQL queries and fetch results. It acts as an interface to interact with the database.\n",
    "\n",
    "- Executing a SQL query\n",
    "query = \"SELECT * FROM Employees\"\n",
    "cursor.execute(query)\n",
    "- to execute SQL queries through the cursor object. It takes the query as a parameter and performs the operation on the connected database\n",
    "\n",
    "- Fetching and printing the results\n",
    "results = cursor.fetchall()\n",
    "for row in results:\n",
    "    print(row)\n",
    "\n",
    "- Closing the cursor and connection\n",
    "cursor.close()\n",
    "connection.close()\n",
    "\n",
    "- In the example above, the execute() method is used to execute the SELECT query, retrieving all rows from the \"Employees\" table.\n",
    "- After executing the query, you can fetch the results using cursor.fetchall(), which returns a list of tuples representing the retrieved data. In the example, the results are iterated over and printed.\n",
    "\n",
    "- Remember to replace \"your_username,\" \"your_password,\" and \"your_database\" with your actual MySQL connection details."
   ]
  },
  {
   "cell_type": "code",
   "execution_count": null,
   "id": "a8b83699",
   "metadata": {},
   "outputs": [],
   "source": []
  },
  {
   "cell_type": "markdown",
   "id": "69b21bb5",
   "metadata": {},
   "source": [
    "# Give the order of execution of SQL clauses in an SQL query."
   ]
  },
  {
   "cell_type": "markdown",
   "id": "f75c5756",
   "metadata": {},
   "source": [
    "- The order of execution of SQL clauses in an SQL query is as follows:\n",
    "\n",
    "FROM: Specifies the table or tables from which the data will be retrieved.\n",
    "WHERE: Filters the rows based on specified conditions.\n",
    "GROUP BY: Groups the rows based on specified columns.\n",
    "HAVING: Filters the groups based on specified conditions.\n",
    "SELECT: Specifies the columns to retrieve from the table.\n",
    "DISTINCT: Removes duplicate rows from the result set.\n",
    "ORDER BY: Sorts the result set based on specified columns.\n",
    "LIMIT/OFFSET: Specifies the number of rows to retrieve and the starting point for retrieval.\n",
    "It is important to note that not all clauses are required in every SQL query, and their presence and order may vary depending on the specific query and requirements."
   ]
  },
  {
   "cell_type": "code",
   "execution_count": null,
   "id": "82634010",
   "metadata": {},
   "outputs": [],
   "source": []
  }
 ],
 "metadata": {
  "kernelspec": {
   "display_name": "Python 3 (ipykernel)",
   "language": "python",
   "name": "python3"
  },
  "language_info": {
   "codemirror_mode": {
    "name": "ipython",
    "version": 3
   },
   "file_extension": ".py",
   "mimetype": "text/x-python",
   "name": "python",
   "nbconvert_exporter": "python",
   "pygments_lexer": "ipython3",
   "version": "3.9.7"
  }
 },
 "nbformat": 4,
 "nbformat_minor": 5
}
